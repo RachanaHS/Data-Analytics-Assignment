{
 "cells": [
  {
   "cell_type": "code",
   "execution_count": 14,
   "metadata": {},
   "outputs": [
    {
     "name": "stdout",
     "output_type": "stream",
     "text": [
      "<class 'pandas.core.frame.DataFrame'>\n",
      "RangeIndex: 150 entries, 0 to 149\n",
      "Data columns (total 5 columns):\n",
      "sepal_length    150 non-null float64\n",
      "sepal_width     150 non-null float64\n",
      "petal_length    150 non-null float64\n",
      "petal_width     150 non-null float64\n",
      "species         150 non-null object\n",
      "dtypes: float64(4), object(1)\n",
      "memory usage: 5.9+ KB\n",
      "Rows : 150, column : 5\n",
      "Theta : [[1.76405235 0.40015721 0.97873798 2.2408932  1.86755799]]\n"
     ]
    },
    {
     "data": {
      "image/png": "[encoded data removed]",
      "text/plain": [
       "<Figure size 432x288 with 1 Axes>"
      ]
     },
     "metadata": {
      "needs_background": "light"
     },
     "output_type": "display_data"
    }
   ],
   "source": [
    "\n",
    "import numpy as np # linear algebra\n",
    "import pandas as pd # data processing, CSV file I/O (e.g. pd.read_csv)\n",
    "import seaborn as sns # data visualisation and plotting\n",
    "import matplotlib.pyplot as plt\n",
    "data = pd.read_csv('iris.csv')\n",
    "data.info()\n",
    "rows, col = data.shape\n",
    "print(\"Rows : %s, column : %s\" % (rows, col))\n",
    "mapping = {\n",
    "    'Iris-setosa' : 1,\n",
    "    'Iris-versicolor' : 2,\n",
    "    'Iris-virginica' : 3\n",
    "}\n",
    "\n",
    "X = data.drop(['species'], axis=1).values \n",
    "y = data.species.replace(mapping).values.reshape(rows,1) \n",
    "\n",
    "X = np.hstack(((np.ones((rows,1))), X))# Adding one more column for bias\n",
    "\n",
    "np.random.seed(0) \n",
    "theta = np.random.randn(1,5) # Setting values of theta randomly\n",
    "\n",
    "print(\"Theta : %s\" % (theta))\n",
    "\n",
    "iteration = 10000\n",
    "learning_rate = 0.003 # alpha.\n",
    "J = np.zeros(iteration) \n",
    "\n",
    "# Let's train our model to compute values of theta\n",
    "for i in range(iteration):\n",
    "    J[i] = (1/(2 * rows) * np.sum((np.dot(X, theta.T) - y) ** 2 ))\n",
    "    theta -= ((learning_rate/rows) * np.dot((np.dot(X, theta.T) - y).reshape(1,rows), X))\n",
    "\n",
    "prediction = np.round(np.dot(X, theta.T))\n",
    "\n",
    "ax = plt.subplot(111)\n",
    "ax.plot(np.arange(iteration), J)\n",
    "ax.set_ylim([0,0.15])\n",
    "plt.ylabel(\"Cost Values\", color=\"Green\")\n",
    "plt.xlabel(\"No. of Iterations\", color=\"Green\")\n",
    "plt.title(\"Mean Squared Error vs Iterations\")\n",
    "plt.show()"
   ]
  },
  {
   "cell_type": "code",
   "execution_count": null,
   "metadata": {},
   "outputs": [],
   "source": []
  }
 ],
 "metadata": {
  "kernelspec": {
   "display_name": "Python 3",
   "language": "python",
   "name": "python3"
  },
  "language_info": {
   "codemirror_mode": {
    "name": "ipython",
    "version": 3
   },
   "file_extension": ".py",
   "mimetype": "text/x-python",
   "name": "python",
   "nbconvert_exporter": "python",
   "pygments_lexer": "ipython3",
   "version": "3.7.3"
  }
 },
 "nbformat": 4,
 "nbformat_minor": 2
}
